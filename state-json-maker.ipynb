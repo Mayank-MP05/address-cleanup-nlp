{
 "cells": [
  {
   "cell_type": "code",
   "execution_count": 1,
   "metadata": {},
   "outputs": [],
   "source": [
    "import json"
   ]
  },
  {
   "cell_type": "code",
   "execution_count": 5,
   "metadata": {},
   "outputs": [],
   "source": [
    "import re"
   ]
  },
  {
   "cell_type": "code",
   "execution_count": 25,
   "metadata": {},
   "outputs": [
    {
     "data": {
      "text/plain": [
       "['dfh', 'sdhfs', 'sdjf', 'dufkshf']"
      ]
     },
     "execution_count": 25,
     "metadata": {},
     "output_type": "execute_result"
    }
   ],
   "source": [
    "string = 'DFh sdhfs SDJF dufkshf'\n",
    "string.lower().split(' ')"
   ]
  },
  {
   "cell_type": "code",
   "execution_count": 54,
   "metadata": {},
   "outputs": [],
   "source": [
    "# Creating the structure obj to write the results\n",
    "states = []"
   ]
  },
  {
   "cell_type": "code",
   "execution_count": 56,
   "metadata": {},
   "outputs": [],
   "source": [
    "ip = open('input/states_list.txt','r')\n",
    "while True:\n",
    "    mapper = ip.readline()\n",
    "    if not mapper:\n",
    "        break \n",
    "    # print(mapper)\n",
    "    pattern = re.compile('(.*)\\|(.*)')\n",
    "    \n",
    "    abbrToFullForm = pattern.findall(mapper)\n",
    "    abbr = abbrToFullForm[0][0]\n",
    "    fullForm = abbrToFullForm[0][1]\n",
    "    \n",
    "    tokensList = fullForm.lower().split(\" \")\n",
    "    # print(type(tokensList))\n",
    "    singleState = {\n",
    "        'abbr':abbr,\n",
    "        'fullForm':fullForm,\n",
    "        'tokensList':tokensList\n",
    "    }\n",
    "    states.append(singleState)\n",
    "    # print(abbr,fullForm,tokensList)\n",
    "\n",
    "# print(statesObj.states)"
   ]
  },
  {
   "cell_type": "code",
   "execution_count": 58,
   "metadata": {},
   "outputs": [
    {
     "name": "stdout",
     "output_type": "stream",
     "text": [
      "{'states': [{'abbr': 'AP', 'fullForm': 'Andhra Pradesh', 'tokensList': ['andhra', 'pradesh']}, {'abbr': 'AR', 'fullForm': 'Arunachal Pradesh', 'tokensList': ['arunachal', 'pradesh']}, {'abbr': 'AS', 'fullForm': 'Assam', 'tokensList': ['assam']}, {'abbr': 'BR', 'fullForm': 'Bihar', 'tokensList': ['bihar']}, {'abbr': 'CT', 'fullForm': 'Chhattisgarh', 'tokensList': ['chhattisgarh']}, {'abbr': 'GA', 'fullForm': 'Goa', 'tokensList': ['goa']}, {'abbr': 'GJ', 'fullForm': 'Gujarat', 'tokensList': ['gujarat']}, {'abbr': 'HR', 'fullForm': 'Haryana', 'tokensList': ['haryana']}, {'abbr': 'HP', 'fullForm': 'Himachal Pradesh', 'tokensList': ['himachal', 'pradesh']}, {'abbr': 'JK', 'fullForm': 'Jammu and Kashmir', 'tokensList': ['jammu', 'and', 'kashmir']}, {'abbr': 'JH', 'fullForm': 'Jharkhand', 'tokensList': ['jharkhand']}, {'abbr': 'KA', 'fullForm': 'Karnataka', 'tokensList': ['karnataka']}, {'abbr': 'KL', 'fullForm': 'Kerala', 'tokensList': ['kerala']}, {'abbr': 'MP', 'fullForm': 'Madhya Pradesh', 'tokensList': ['madhya', 'pradesh']}, {'abbr': 'MH', 'fullForm': 'Maharashtra', 'tokensList': ['maharashtra']}, {'abbr': 'MN', 'fullForm': 'Manipur', 'tokensList': ['manipur']}, {'abbr': 'ML', 'fullForm': 'Meghalaya', 'tokensList': ['meghalaya']}, {'abbr': 'MZ', 'fullForm': 'Mizoram', 'tokensList': ['mizoram']}, {'abbr': 'NL', 'fullForm': 'Nagaland', 'tokensList': ['nagaland']}, {'abbr': 'OR', 'fullForm': 'Odisha', 'tokensList': ['odisha']}, {'abbr': 'PB', 'fullForm': 'Punjab', 'tokensList': ['punjab']}, {'abbr': 'RJ', 'fullForm': 'Rajasthan', 'tokensList': ['rajasthan']}, {'abbr': 'SK', 'fullForm': 'Sikkim', 'tokensList': ['sikkim']}, {'abbr': 'TN', 'fullForm': 'Tamil Nadu', 'tokensList': ['tamil', 'nadu']}, {'abbr': 'TG', 'fullForm': 'Telangana', 'tokensList': ['telangana']}, {'abbr': 'TR', 'fullForm': 'Tripura', 'tokensList': ['tripura']}, {'abbr': 'UT', 'fullForm': 'Uttarakhand', 'tokensList': ['uttarakhand']}, {'abbr': 'UP', 'fullForm': 'Uttar Pradesh', 'tokensList': ['uttar', 'pradesh']}, {'abbr': 'WB', 'fullForm': 'West Bengal', 'tokensList': ['west', 'bengal']}, {'abbr': 'AN', 'fullForm': 'Andaman and Nicobar Islands', 'tokensList': ['andaman', 'and', 'nicobar', 'islands']}, {'abbr': 'CH', 'fullForm': 'Chandigarh', 'tokensList': ['chandigarh']}, {'abbr': 'DN', 'fullForm': 'Dadra and Nagar Haveli', 'tokensList': ['dadra', 'and', 'nagar', 'haveli']}, {'abbr': 'DD', 'fullForm': 'Daman and Diu', 'tokensList': ['daman', 'and', 'diu']}, {'abbr': 'DL', 'fullForm': 'Delhi', 'tokensList': ['delhi']}, {'abbr': 'LD', 'fullForm': 'Lakshadweep', 'tokensList': ['lakshadweep']}, {'abbr': 'PY', 'fullForm': 'Puducherry', 'tokensList': ['puducherry']}, {'abbr': 'AP', 'fullForm': 'Andhra Pradesh', 'tokensList': ['andhra', 'pradesh']}, {'abbr': 'AR', 'fullForm': 'Arunachal Pradesh', 'tokensList': ['arunachal', 'pradesh']}, {'abbr': 'AS', 'fullForm': 'Assam', 'tokensList': ['assam']}, {'abbr': 'BR', 'fullForm': 'Bihar', 'tokensList': ['bihar']}, {'abbr': 'CT', 'fullForm': 'Chhattisgarh', 'tokensList': ['chhattisgarh']}, {'abbr': 'GA', 'fullForm': 'Goa', 'tokensList': ['goa']}, {'abbr': 'GJ', 'fullForm': 'Gujarat', 'tokensList': ['gujarat']}, {'abbr': 'HR', 'fullForm': 'Haryana', 'tokensList': ['haryana']}, {'abbr': 'HP', 'fullForm': 'Himachal Pradesh', 'tokensList': ['himachal', 'pradesh']}, {'abbr': 'JK', 'fullForm': 'Jammu and Kashmir', 'tokensList': ['jammu', 'and', 'kashmir']}, {'abbr': 'JH', 'fullForm': 'Jharkhand', 'tokensList': ['jharkhand']}, {'abbr': 'KA', 'fullForm': 'Karnataka', 'tokensList': ['karnataka']}, {'abbr': 'KL', 'fullForm': 'Kerala', 'tokensList': ['kerala']}, {'abbr': 'MP', 'fullForm': 'Madhya Pradesh', 'tokensList': ['madhya', 'pradesh']}, {'abbr': 'MH', 'fullForm': 'Maharashtra', 'tokensList': ['maharashtra']}, {'abbr': 'MN', 'fullForm': 'Manipur', 'tokensList': ['manipur']}, {'abbr': 'ML', 'fullForm': 'Meghalaya', 'tokensList': ['meghalaya']}, {'abbr': 'MZ', 'fullForm': 'Mizoram', 'tokensList': ['mizoram']}, {'abbr': 'NL', 'fullForm': 'Nagaland', 'tokensList': ['nagaland']}, {'abbr': 'OR', 'fullForm': 'Odisha', 'tokensList': ['odisha']}, {'abbr': 'PB', 'fullForm': 'Punjab', 'tokensList': ['punjab']}, {'abbr': 'RJ', 'fullForm': 'Rajasthan', 'tokensList': ['rajasthan']}, {'abbr': 'SK', 'fullForm': 'Sikkim', 'tokensList': ['sikkim']}, {'abbr': 'TN', 'fullForm': 'Tamil Nadu', 'tokensList': ['tamil', 'nadu']}, {'abbr': 'TG', 'fullForm': 'Telangana', 'tokensList': ['telangana']}, {'abbr': 'TR', 'fullForm': 'Tripura', 'tokensList': ['tripura']}, {'abbr': 'UT', 'fullForm': 'Uttarakhand', 'tokensList': ['uttarakhand']}, {'abbr': 'UP', 'fullForm': 'Uttar Pradesh', 'tokensList': ['uttar', 'pradesh']}, {'abbr': 'WB', 'fullForm': 'West Bengal', 'tokensList': ['west', 'bengal']}, {'abbr': 'AN', 'fullForm': 'Andaman and Nicobar Islands', 'tokensList': ['andaman', 'and', 'nicobar', 'islands']}, {'abbr': 'CH', 'fullForm': 'Chandigarh', 'tokensList': ['chandigarh']}, {'abbr': 'DN', 'fullForm': 'Dadra and Nagar Haveli', 'tokensList': ['dadra', 'and', 'nagar', 'haveli']}, {'abbr': 'DD', 'fullForm': 'Daman and Diu', 'tokensList': ['daman', 'and', 'diu']}, {'abbr': 'DL', 'fullForm': 'Delhi', 'tokensList': ['delhi']}, {'abbr': 'LD', 'fullForm': 'Lakshadweep', 'tokensList': ['lakshadweep']}, {'abbr': 'PY', 'fullForm': 'Puducherry', 'tokensList': ['puducherry']}]}\n"
     ]
    }
   ],
   "source": [
    "statesObj = {\n",
    "    \"states\":states\n",
    "}\n",
    "print(statesObj)\n"
   ]
  },
  {
   "cell_type": "code",
   "execution_count": 60,
   "metadata": {},
   "outputs": [],
   "source": [
    "# Writing the state data in JSON file\n",
    "statesFile = open(\"input/state-list-json.json\", \"w\")\n",
    "json.dump(statesObj, statesFile, indent = 4)\n",
    "  \n",
    "statesFile.close()"
   ]
  },
  {
   "cell_type": "code",
   "execution_count": null,
   "metadata": {},
   "outputs": [],
   "source": []
  }
 ],
 "metadata": {
  "interpreter": {
   "hash": "5680be8cc5c3550c93ea5f3c15a4c94ab2efef3e07e6ed5927b9812717a7a3d2"
  },
  "kernelspec": {
   "display_name": "Python 3.8.3 64-bit ('base': conda)",
   "language": "python",
   "name": "python3"
  },
  "language_info": {
   "codemirror_mode": {
    "name": "ipython",
    "version": 3
   },
   "file_extension": ".py",
   "mimetype": "text/x-python",
   "name": "python",
   "nbconvert_exporter": "python",
   "pygments_lexer": "ipython3",
   "version": "3.8.3"
  },
  "orig_nbformat": 4
 },
 "nbformat": 4,
 "nbformat_minor": 2
}
